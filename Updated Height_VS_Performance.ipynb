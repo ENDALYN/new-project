Codes for Height vs Performance scatter plot
